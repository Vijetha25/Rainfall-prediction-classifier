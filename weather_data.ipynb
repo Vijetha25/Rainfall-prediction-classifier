{
 "cells": [
  {
   "cell_type": "code",
   "execution_count": 1,
   "id": "65a909a0-2029-48ab-9056-233e73fc83c2",
   "metadata": {},
   "outputs": [],
   "source": [
    "import pandas as pd\n",
    "import numpy as np\n",
    "from sklearn.model_selection import train_test_split, GridSearchCV\n",
    "from sklearn.preprocessing import StandardScaler\n",
    "from sklearn.pipeline import Pipeline\n",
    "from sklearn.ensemble import RandomForestClassifier\n",
    "from sklearn.metrics import classification_report, accuracy_score, confusion_matrix\n",
    "import matplotlib.pyplot as plt\n",
    "import seaborn as sns"
   ]
  },
  {
   "cell_type": "code",
   "execution_count": 4,
   "id": "335e3a1a-5a31-43ef-aee2-f9a1330f3244",
   "metadata": {},
   "outputs": [],
   "source": [
    "data = pd.read_csv(r\"C:\\Users\\91984\\OneDrive\\Desktop\\weather_data.csv\")"
   ]
  },
  {
   "cell_type": "code",
   "execution_count": 5,
   "id": "2be38fa2-bc15-4f29-90f9-c5a2f50d627b",
   "metadata": {},
   "outputs": [
    {
     "name": "stdout",
     "output_type": "stream",
     "text": [
      "Initial data shape: (5, 1)\n",
      "Columns: Index(['Date,Location,MinTemp,MaxTemp,Rainfall,Evaporation,Sunshine,WindGustDir,WindGustSpeed,WindDir9am,WindDir3pm,WindSpeed9am,WindSpeed3pm,Humidity9am,Humidity3pm,Pressure9am,Pressure3pm,Cloud9am,Cloud3pm,Temp9am,Temp3pm,RainToday,RainTomorrow'], dtype='object')\n",
      "  Date,Location,MinTemp,MaxTemp,Rainfall,Evaporation,Sunshine,WindGustDir,WindGustSpeed,WindDir9am,WindDir3pm,WindSpeed9am,WindSpeed3pm,Humidity9am,Humidity3pm,Pressure9am,Pressure3pm,Cloud9am,Cloud3pm,Temp9am,Temp3pm,RainToday,RainTomorrow\n",
      "0  2025-05-01,Sydney,14.0,22.0,0.0,4.0,9.0,N,35,N...                                                                                                                                                                                            \n",
      "1  2025-05-02,Sydney,13.5,23.1,0.2,3.8,8.5,NE,40,...                                                                                                                                                                                            \n",
      "2  2025-05-03,Sydney,12.0,20.0,5.6,2.5,7.0,E,50,E...                                                                                                                                                                                            \n",
      "3  2025-05-04,Sydney,11.0,19.5,0.0,3.0,10.0,S,30,...                                                                                                                                                                                            \n",
      "4  2025-05-05,Sydney,15.0,24.0,1.0,4.5,9.2,W,45,W...                                                                                                                                                                                            \n"
     ]
    }
   ],
   "source": [
    "print(\"Initial data shape:\", data.shape)\n",
    "print(\"Columns:\", data.columns)\n",
    "print(data.head())"
   ]
  },
  {
   "cell_type": "code",
   "execution_count": 8,
   "id": "0a1896ca-2364-45cb-bd75-725ea7a296e5",
   "metadata": {},
   "outputs": [
    {
     "name": "stdout",
     "output_type": "stream",
     "text": [
      "Available columns: Index(['Date,Location,MinTemp,MaxTemp,Rainfall,Evaporation,Sunshine,WindGustDir,WindGustSpeed,WindDir9am,WindDir3pm,WindSpeed9am,WindSpeed3pm,Humidity9am,Humidity3pm,Pressure9am,Pressure3pm,Cloud9am,Cloud3pm,Temp9am,Temp3pm,RainToday,RainTomorrow'], dtype='object')\n",
      "Column 'RainTomorrow' is missing! Please check dataset.\n"
     ]
    }
   ],
   "source": [
    "if 'RainTomorrow' not in data.columns:\n",
    "    print(\"Available columns:\", data.columns)\n",
    "    print(\"Column 'RainTomorrow' is missing! Please check dataset.\")\n",
    "else:\n",
    "    print(\"All good! 'RainTomorrow' is present.\")"
   ]
  },
  {
   "cell_type": "code",
   "execution_count": 12,
   "id": "bc286c06-3c2c-48aa-9cda-e272e392d87f",
   "metadata": {},
   "outputs": [
    {
     "name": "stdout",
     "output_type": "stream",
     "text": [
      "Available columns: Index(['Date,Location,MinTemp,MaxTemp,Rainfall,Evaporation,Sunshine,WindGustDir,WindGustSpeed,WindDir9am,WindDir3pm,WindSpeed9am,WindSpeed3pm,Humidity9am,Humidity3pm,Pressure9am,Pressure3pm,Cloud9am,Cloud3pm,Temp9am,Temp3pm,RainToday,RainTomorrow'], dtype='object')\n",
      "Column 'RainTomorrow' is missing. Please check the dataset.\n"
     ]
    }
   ],
   "source": [
    "# Print available columns to debug\n",
    "print(\"Available columns:\", data.columns)\n",
    "\n",
    "# Check if 'RainTomorrow' column exists\n",
    "if 'RainTomorrow' in data.columns:\n",
    "    # Convert target to binary (if column exists)\n",
    "    data['RainTomorrow'] = data['RainTomorrow'].map({'Yes': 1, 'No': 0})\n",
    "\n",
    "    # Drop rows with missing values in the target column\n",
    "    data = data.dropna(subset=['RainTomorrow'])\n",
    "else:\n",
    "    print(\"Column 'RainTomorrow' is missing. Please check the dataset.\")"
   ]
  },
  {
   "cell_type": "code",
   "execution_count": 13,
   "id": "02688756-cd20-45f4-9ac3-026bf7023ad7",
   "metadata": {},
   "outputs": [],
   "source": [
    "data = data.dropna()\n"
   ]
  },
  {
   "cell_type": "code",
   "execution_count": 44,
   "id": "3142785b-1af3-4537-8fb6-b69c2b66631a",
   "metadata": {},
   "outputs": [
    {
     "name": "stdout",
     "output_type": "stream",
     "text": [
      "Available columns: Index(['Date,Location,MinTemp,MaxTemp,Rainfall,Evaporation,Sunshine,WindGustDir,WindGustSpeed,WindDir9am,WindDir3pm,WindSpeed9am,WindSpeed3pm,Humidity9am,Humidity3pm,Pressure9am,Pressure3pm,Cloud9am,Cloud3pm,Temp9am,Temp3pm,RainToday,RainTomorrow'], dtype='object')\n",
      "Column 'RainTomorrow' is missing! Please check your dataset.\n"
     ]
    }
   ],
   "source": [
    "# Print available columns for debugging\n",
    "print(\"Available columns:\", data.columns)\n",
    "\n",
    "# Check if 'RainTomorrow' exists\n",
    "if 'RainTomorrow' in data.columns:\n",
    "    X = data.drop('RainTomorrow', axis=1)  # Drop target column from features\n",
    "    y = data['RainTomorrow']  # Define target variable\n",
    "else:\n",
    "    print(\"Column 'RainTomorrow' is missing! Please check your dataset.\")\n",
    "    # Optional: Create the column if missing (assuming 'Rainfall' data exists)\n",
    "    # data['RainTomorrow'] = np.nan  # Placeholder for missing values\n",
    "\n"
   ]
  },
  {
   "cell_type": "code",
   "execution_count": 22,
   "id": "8bc03b01-c35c-4f67-84d8-efc619fce989",
   "metadata": {},
   "outputs": [
    {
     "name": "stdout",
     "output_type": "stream",
     "text": [
      "Available columns in the dataset: ['Date,Location,MinTemp,MaxTemp,Rainfall,Evaporation,Sunshine,WindGustDir,WindGustSpeed,WindDir9am,WindDir3pm,WindSpeed9am,WindSpeed3pm,Humidity9am,Humidity3pm,Pressure9am,Pressure3pm,Cloud9am,Cloud3pm,Temp9am,Temp3pm,RainToday,RainTomorrow']\n",
      "Possible matching column(s): ['Date,Location,MinTemp,MaxTemp,Rainfall,Evaporation,Sunshine,WindGustDir,WindGustSpeed,WindDir9am,WindDir3pm,WindSpeed9am,WindSpeed3pm,Humidity9am,Humidity3pm,Pressure9am,Pressure3pm,Cloud9am,Cloud3pm,Temp9am,Temp3pm,RainToday,RainTomorrow']\n"
     ]
    }
   ],
   "source": [
    "\n",
    "# Print all available columns in the dataset\n",
    "print(\"Available columns in the dataset:\", list(data.columns))\n",
    "\n",
    "# Check if 'RainTomorrow' exists directly\n",
    "if 'RainTomorrow' in data.columns:\n",
    "    X = data.drop('RainTomorrow', axis=1)\n",
    "    y = data['RainTomorrow']\n",
    "else:\n",
    "    # Try to identify similar column names\n",
    "    potential_matches = [col for col in data.columns if 'rain' in col.lower()]\n",
    "\n",
    "    if potential_matches:\n",
    "        print(f\"Possible matching column(s): {potential_matches}\")\n",
    "        # You may need to manually rename or adjust the column name\n",
    "    else:\n",
    "        raise ValueError(\"The dataset does not contain 'RainTomorrow'. Check your dataset for missing or misnamed columns.\")"
   ]
  },
  {
   "cell_type": "code",
   "execution_count": 30,
   "id": "9b28e8d7-ae74-41bc-a184-cde63b5db302",
   "metadata": {},
   "outputs": [
    {
     "name": "stdout",
     "output_type": "stream",
     "text": [
      "Available columns: ['Date,Location,MinTemp,MaxTemp,Rainfall,Evaporation,Sunshine,WindGustDir,WindGustSpeed,WindDir9am,WindDir3pm,WindSpeed9am,WindSpeed3pm,Humidity9am,Humidity3pm,Pressure9am,Pressure3pm,Cloud9am,Cloud3pm,Temp9am,Temp3pm,RainToday,RainTomorrow']\n",
      "Possible matching column(s): ['Date,Location,MinTemp,MaxTemp,Rainfall,Evaporation,Sunshine,WindGustDir,WindGustSpeed,WindDir9am,WindDir3pm,WindSpeed9am,WindSpeed3pm,Humidity9am,Humidity3pm,Pressure9am,Pressure3pm,Cloud9am,Cloud3pm,Temp9am,Temp3pm,RainToday,RainTomorrow']\n"
     ]
    }
   ],
   "source": [
    "# Print available columns\n",
    "print(\"Available columns:\", list(data.columns))\n",
    "\n",
    "# Attempt to find a column similar to 'RainTomorrow'\n",
    "expected_column = 'RainTomorrow'\n",
    "matching_columns = [col for col in data.columns if 'rain' in col.lower()]\n",
    "\n",
    "if matching_columns:\n",
    "    print(f\"Possible matching column(s): {matching_columns}\")\n",
    "    correct_column_name = matching_columns[0]  # Choose the closest match\n",
    "    X = data.drop(correct_column_name, axis=1)  # Define features\n",
    "    y = data[correct_column_name]  # Define target variable\n",
    "else:\n",
    "    raise ValueError(\"The dataset does not contain 'RainTomorrow'. Please check the column names.\")"
   ]
  },
  {
   "cell_type": "code",
   "execution_count": 34,
   "id": "35cf2bdb-6eee-454d-adc1-6239c59ae7ea",
   "metadata": {},
   "outputs": [
    {
     "name": "stdout",
     "output_type": "stream",
     "text": [
      "Available columns: ['Date,Location,MinTemp,MaxTemp,Rainfall,Evaporation,Sunshine,WindGustDir,WindGustSpeed,WindDir9am,WindDir3pm,WindSpeed9am,WindSpeed3pm,Humidity9am,Humidity3pm,Pressure9am,Pressure3pm,Cloud9am,Cloud3pm,Temp9am,Temp3pm,RainToday,RainTomorrow']\n",
      "Using column 'Date,Location,MinTemp,MaxTemp,Rainfall,Evaporation,Sunshine,WindGustDir,WindGustSpeed,WindDir9am,WindDir3pm,WindSpeed9am,WindSpeed3pm,Humidity9am,Humidity3pm,Pressure9am,Pressure3pm,Cloud9am,Cloud3pm,Temp9am,Temp3pm,RainToday,RainTomorrow' as 'RainTomorrow'\n"
     ]
    }
   ],
   "source": [
    "# Print available columns\n",
    "print(\"Available columns:\", list(data.columns))\n",
    "\n",
    "# Attempt to find a column similar to 'RainTomorrow'\n",
    "expected_column = 'RainTomorrow'\n",
    "matching_columns = [col for col in data.columns if 'rain' in col.lower()]\n",
    "\n",
    "if matching_columns:\n",
    "    correct_column_name = matching_columns[0]  # Choose the closest match\n",
    "    print(f\"Using column '{correct_column_name}' as 'RainTomorrow'\")\n",
    "    X = data.drop(correct_column_name, axis=1)  # Define features\n",
    "    y = data[correct_column_name]  # Define target variable\n",
    "else:\n",
    "    raise ValueError(\"The dataset does not contain 'RainTomorrow'. Please check the column names.\")"
   ]
  },
  {
   "cell_type": "code",
   "execution_count": 39,
   "id": "b9e2a72f-54cb-4d35-882a-76eceefa78e3",
   "metadata": {},
   "outputs": [
    {
     "name": "stdout",
     "output_type": "stream",
     "text": [
      "Available columns: ['Date,Location,MinTemp,MaxTemp,Rainfall,Evaporation,Sunshine,WindGustDir,WindGustSpeed,WindDir9am,WindDir3pm,WindSpeed9am,WindSpeed3pm,Humidity9am,Humidity3pm,Pressure9am,Pressure3pm,Cloud9am,Cloud3pm,Temp9am,Temp3pm,RainToday,RainTomorrow']\n",
      "Using column 'Date,Location,MinTemp,MaxTemp,Rainfall,Evaporation,Sunshine,WindGustDir,WindGustSpeed,WindDir9am,WindDir3pm,WindSpeed9am,WindSpeed3pm,Humidity9am,Humidity3pm,Pressure9am,Pressure3pm,Cloud9am,Cloud3pm,Temp9am,Temp3pm,RainToday,RainTomorrow' as 'RainTomorrow'\n"
     ]
    }
   ],
   "source": [
    "# Print available columns\n",
    "print(\"Available columns:\", list(data.columns))\n",
    "\n",
    "# Attempt to find a column similar to 'RainTomorrow'\n",
    "expected_column = 'RainTomorrow'\n",
    "matching_columns = [col for col in data.columns if 'rain' in col.lower()]\n",
    "\n",
    "if matching_columns:\n",
    "    correct_column_name = matching_columns[0]  # Choose the closest match\n",
    "    print(f\"Using column '{correct_column_name}' as 'RainTomorrow'\")\n",
    "    X = data.drop(correct_column_name, axis=1)  # Define features\n",
    "    y = data[correct_column_name]  # Define target variable\n",
    "else:\n",
    "    raise ValueError(\"The dataset does not contain 'RainTomorrow'. Please check the column names.\")"
   ]
  },
  {
   "cell_type": "code",
   "execution_count": 43,
   "id": "02b92588-341e-4153-81f1-0f6c33ecddfe",
   "metadata": {},
   "outputs": [
    {
     "name": "stdout",
     "output_type": "stream",
     "text": [
      "Available columns: ['Date,Location,MinTemp,MaxTemp,Rainfall,Evaporation,Sunshine,WindGustDir,WindGustSpeed,WindDir9am,WindDir3pm,WindSpeed9am,WindSpeed3pm,Humidity9am,Humidity3pm,Pressure9am,Pressure3pm,Cloud9am,Cloud3pm,Temp9am,Temp3pm,RainToday,RainTomorrow']\n",
      "Using column 'Date,Location,MinTemp,MaxTemp,Rainfall,Evaporation,Sunshine,WindGustDir,WindGustSpeed,WindDir9am,WindDir3pm,WindSpeed9am,WindSpeed3pm,Humidity9am,Humidity3pm,Pressure9am,Pressure3pm,Cloud9am,Cloud3pm,Temp9am,Temp3pm,RainToday,RainTomorrow' as 'RainTomorrow'\n",
      "No numerical features available for plotting.\n"
     ]
    }
   ],
   "source": [
    "import matplotlib.pyplot as plt\n",
    "\n",
    "# Check available columns\n",
    "print(\"Available columns:\", list(data.columns))\n",
    "\n",
    "# Find a column similar to 'RainTomorrow'\n",
    "expected_column = 'RainTomorrow'\n",
    "matching_columns = [col for col in data.columns if expected_column.lower() in col.lower()]\n",
    "\n",
    "if matching_columns:\n",
    "    correct_column_name = matching_columns[0]  # Choose the closest match\n",
    "    print(f\"Using column '{correct_column_name}' as 'RainTomorrow'\")\n",
    "    X = data.drop(correct_column_name, axis=1)  # Features\n",
    "    y = data[correct_column_name]  # Target variable\n",
    "else:\n",
    "    raise ValueError(\"The dataset does not contain 'RainTomorrow'. Please check the column names.\")\n",
    "\n",
    "# Select numerical feature(s) for plotting\n",
    "numerical_features = X.select_dtypes(include=['number']).columns\n",
    "\n",
    "if len(numerical_features) > 0:\n",
    "    # Plot first numerical feature against the target variable\n",
    "    plt.figure(figsize=(6, 4))\n",
    "    plt.scatter(X[numerical_features[0]], y, alpha=0.5)\n",
    "    plt.xlabel(numerical_features[0])\n",
    "    plt.ylabel('RainTomorrow')\n",
    "    plt.title(f'Scatter Plot of {numerical_features[0]} vs RainTomorrow')\n",
    "    plt.show()\n",
    "else:\n",
    "    print(\"No numerical features available for plotting.\")"
   ]
  },
  {
   "cell_type": "code",
   "execution_count": null,
   "id": "0fd0b4f8-417c-4543-b224-743e9f3f3731",
   "metadata": {},
   "outputs": [],
   "source": []
  }
 ],
 "metadata": {
  "kernelspec": {
   "display_name": "Python 3 (ipykernel)",
   "language": "python",
   "name": "python3"
  },
  "language_info": {
   "codemirror_mode": {
    "name": "ipython",
    "version": 3
   },
   "file_extension": ".py",
   "mimetype": "text/x-python",
   "name": "python",
   "nbconvert_exporter": "python",
   "pygments_lexer": "ipython3",
   "version": "3.12.7"
  }
 },
 "nbformat": 4,
 "nbformat_minor": 5
}
